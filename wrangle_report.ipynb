{
 "cells": [
  {
   "cell_type": "markdown",
   "metadata": {},
   "source": [
    "# Data Wrangling Report\n",
    " \n",
    " # Shakhawat Hassan\n",
    "\n",
    "### 1) Gather Data\n",
    "- import tweepy\n",
    "- from tweepy import OAuthHandler\n",
    "- import json\n",
    "- from timeit import default_timer as timer\n",
    "- import pandas as pd\n",
    "- import numpy as np\n",
    "- import seaborn as sns\n",
    "- import urllib.request\n",
    "- import matplotlib.pyplot as plt\n",
    "- %matplotlib inline\n",
    "\n",
    "After importing the libries,\n",
    "I did the following \n",
    "- df1 is 'twitter-archive-enhanced.csv'\n",
    "- df2 is image-predictions.tsv\n",
    "- df3 is 'tweet-json.txt'\n",
    "- every Twitter API for each tweet in the Twitter archive and save JSON in a text file and these are hidden to comply with Twitter's API terms and conditions\n",
    "> consumer_key = 'HIDDEN'\n",
    "consumer_secret = 'HIDDEN'\n",
    "access_token = 'HIDDEN'\n",
    "access_secret = 'HIDDEN'\n",
    ">auth = OAuthHandler(consumer_key, consumer_secret)\n",
    "auth.set_access_token(access_token, access_secret)\n",
    "api = tweepy.API(auth)"
   ]
  },
  {
   "cell_type": "markdown",
   "metadata": {},
   "source": [
    "## 2) Assess Data\n",
    "After gathering the data, I assess the datasets by"
   ]
  },
  {
   "cell_type": "markdown",
   "metadata": {},
   "source": [
    "\n",
    "- .info \n",
    "- .describe\n",
    "- .head()\n",
    "- all_columns = pd.Series(list(df1) + list (df2)+ list(df3)) \n",
    "- all_columns[all_columns.duplicated()]\n",
    "- df['names'].value_counts()"
   ]
  },
  {
   "cell_type": "markdown",
   "metadata": {},
   "source": [
    "## 3) Clean Data\n",
    "After gathering and assessing the data. I clean the datasets by"
   ]
  },
  {
   "cell_type": "markdown",
   "metadata": {},
   "source": [
    "Quality\n",
    "- Drop unnecessary columns in df1\n",
    "- Drop unnecessary columns in df2\n",
    "- Extract the columns in df3 which are needed ('id', 'retweet_count', 'favorite_count')\n",
    "- Change 'id' name to 'tweet_id' in df3\n",
    "- Change 'tweet_id' data type to string in df1\n",
    "- Change 'tweet_id' data type to  string in df2\n",
    "- Change 'id' data type to string in df3\n",
    "- Remove \"_\" and capitalize the first letter for p1, p2, and p3 in df2\n",
    "- Change string to datetime for timestamp in df1\n",
    "- Capitalize first letter in 'names' in df1\n",
    "- Replace the names 'DoggoPupper\" to \"Doggo\", 'DoggoPuppo', 'Puppo', 'DoggoFloofer', 'Floofer'\n",
    "Tidiness\n",
    "- Merge all three dogs' stages into one single column and then drop the empty rows\n",
    "- Merge all three columns into a single column by 'tweeter_id'"
   ]
  },
  {
   "cell_type": "markdown",
   "metadata": {},
   "source": []
  }
 ],
 "metadata": {
  "kernelspec": {
   "display_name": "Python 3",
   "language": "python",
   "name": "python3"
  },
  "language_info": {
   "codemirror_mode": {
    "name": "ipython",
    "version": 3
   },
   "file_extension": ".py",
   "mimetype": "text/x-python",
   "name": "python",
   "nbconvert_exporter": "python",
   "pygments_lexer": "ipython3",
   "version": "3.6.3"
  }
 },
 "nbformat": 4,
 "nbformat_minor": 2
}
